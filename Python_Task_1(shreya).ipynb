{
 "cells": [
  {
   "cell_type": "markdown",
   "metadata": {
    "id": "zBj4qqbwhnjQ"
   },
   "source": [
    "# Python Basics - Data Types"
   ]
  },
  {
   "cell_type": "markdown",
   "metadata": {
    "id": "pnP4CzGqhnjU"
   },
   "source": [
    "Starting Date - 1st June (Tuesday) at 9 AM in the morning <br>\n",
    "Submssion Date - 3rd June (Thursday) at 9 AM in the morning"
   ]
  },
  {
   "cell_type": "markdown",
   "metadata": {
    "id": "r9DyjfHQhnjV"
   },
   "source": [
    "### 1. Comments in Python"
   ]
  },
  {
   "cell_type": "markdown",
   "metadata": {
    "id": "QRMm0JbbhnjV"
   },
   "source": [
    "<b> a) Write a command to comment single line in python. </b>"
   ]
  },
  {
   "cell_type": "code",
   "execution_count": 1,
   "metadata": {
    "colab": {
     "base_uri": "https://localhost:8080/",
     "height": 35
    },
    "executionInfo": {
     "elapsed": 10,
     "status": "ok",
     "timestamp": 1622466395971,
     "user": {
      "displayName": "Shreya Biradar",
      "photoUrl": "",
      "userId": "13626312795578822118"
     },
     "user_tz": -330
    },
    "id": "p1MHJAathnjW",
    "outputId": "db096db3-fe3f-48d4-f0af-652dea0b0653"
   },
   "outputs": [
    {
     "data": {
      "application/vnd.google.colaboratory.intrinsic+json": {
       "type": "string"
      },
      "text/plain": [
       "'Welcome back to my youtube channel'"
      ]
     },
     "execution_count": 1,
     "metadata": {
      "tags": []
     },
     "output_type": "execute_result"
    }
   ],
   "source": [
    "#Welcome back to my youtube channel"
   ]
  },
  {
   "cell_type": "markdown",
   "metadata": {
    "id": "BTmWfgkChnjX"
   },
   "source": [
    "<b> b) Write a command to comment multiple lines in python. </b>"
   ]
  },
  {
   "cell_type": "code",
   "execution_count": 40,
   "metadata": {
    "colab": {
     "base_uri": "https://localhost:8080/"
    },
    "executionInfo": {
     "elapsed": 354,
     "status": "ok",
     "timestamp": 1622468054989,
     "user": {
      "displayName": "Shreya Biradar",
      "photoUrl": "",
      "userId": "13626312795578822118"
     },
     "user_tz": -330
    },
    "id": "hvhW3n4thnjX",
    "outputId": "9c6728cb-9de0-4bf9-b22f-5c4981cf7f9d"
   },
   "outputs": [
    {
     "name": "stdout",
     "output_type": "stream",
     "text": [
      "please comment below \n",
      "subscribe\n"
     ]
    }
   ],
   "source": [
    "'''Welcome back to my youtube channel'''"
   ]
  },
  {
   "cell_type": "markdown",
   "metadata": {
    "id": "5qYMpA-1hnjY"
   },
   "source": [
    "### 2. Numbers "
   ]
  },
  {
   "cell_type": "markdown",
   "metadata": {
    "id": "JTjIL-5MhnjY"
   },
   "source": [
    "<b> a) Write a code to add two intergers in Python. </b>"
   ]
  },
  {
   "cell_type": "code",
   "execution_count": 2,
   "metadata": {
    "colab": {
     "base_uri": "https://localhost:8080/"
    },
    "executionInfo": {
     "elapsed": 357,
     "status": "ok",
     "timestamp": 1622466412817,
     "user": {
      "displayName": "Shreya Biradar",
      "photoUrl": "",
      "userId": "13626312795578822118"
     },
     "user_tz": -330
    },
    "id": "7UxB2Mq8hnjZ",
    "outputId": "0659dd84-b29b-4583-c1ae-1042f22184e7"
   },
   "outputs": [
    {
     "data": {
      "text/plain": [
       "15"
      ]
     },
     "execution_count": 2,
     "metadata": {
      "tags": []
     },
     "output_type": "execute_result"
    }
   ],
   "source": [
    "9+6"
   ]
  },
  {
   "cell_type": "markdown",
   "metadata": {
    "id": "vG8TP-p-hnjZ"
   },
   "source": [
    "<b> b) Write a code to subtract two intergers in Python. </b>"
   ]
  },
  {
   "cell_type": "code",
   "execution_count": 9,
   "metadata": {
    "colab": {
     "base_uri": "https://localhost:8080/"
    },
    "executionInfo": {
     "elapsed": 354,
     "status": "ok",
     "timestamp": 1622466729847,
     "user": {
      "displayName": "Shreya Biradar",
      "photoUrl": "",
      "userId": "13626312795578822118"
     },
     "user_tz": -330
    },
    "id": "dfI-yVD_hnjZ",
    "outputId": "a3bed82f-bff5-4fe0-b63a-a014e611a519"
   },
   "outputs": [
    {
     "data": {
      "text/plain": [
       "11"
      ]
     },
     "execution_count": 9,
     "metadata": {
      "tags": []
     },
     "output_type": "execute_result"
    }
   ],
   "source": [
    "96-85"
   ]
  },
  {
   "cell_type": "markdown",
   "metadata": {
    "id": "b3cABdixhnja"
   },
   "source": [
    "<b> c) Write a code to multiply two intergers in Python. </b>"
   ]
  },
  {
   "cell_type": "code",
   "execution_count": 10,
   "metadata": {
    "colab": {
     "base_uri": "https://localhost:8080/"
    },
    "executionInfo": {
     "elapsed": 354,
     "status": "ok",
     "timestamp": 1622466748478,
     "user": {
      "displayName": "Shreya Biradar",
      "photoUrl": "",
      "userId": "13626312795578822118"
     },
     "user_tz": -330
    },
    "id": "xtbDlqdVhnja",
    "outputId": "79fde1f3-ded6-4554-f2c0-38d199a77158"
   },
   "outputs": [
    {
     "data": {
      "text/plain": [
       "1008"
      ]
     },
     "execution_count": 10,
     "metadata": {
      "tags": []
     },
     "output_type": "execute_result"
    }
   ],
   "source": [
    "28*36"
   ]
  },
  {
   "cell_type": "markdown",
   "metadata": {
    "id": "baQy27b0hnja"
   },
   "source": [
    "<b> d) Write a code to divide two intergers in Python. </b>"
   ]
  },
  {
   "cell_type": "code",
   "execution_count": 11,
   "metadata": {
    "colab": {
     "base_uri": "https://localhost:8080/"
    },
    "executionInfo": {
     "elapsed": 386,
     "status": "ok",
     "timestamp": 1622466764825,
     "user": {
      "displayName": "Shreya Biradar",
      "photoUrl": "",
      "userId": "13626312795578822118"
     },
     "user_tz": -330
    },
    "id": "aHo3xJ3hhnjb",
    "outputId": "5c53ea55-7a35-42c0-85b0-fa3c8801b183"
   },
   "outputs": [
    {
     "data": {
      "text/plain": [
       "4.083333333333333"
      ]
     },
     "execution_count": 11,
     "metadata": {
      "tags": []
     },
     "output_type": "execute_result"
    }
   ],
   "source": [
    "98/24"
   ]
  },
  {
   "cell_type": "markdown",
   "metadata": {
    "id": "_4DpLdLuhnjb"
   },
   "source": [
    "<b> e) Write a code to find reminder of two intergers in Python. </b>"
   ]
  },
  {
   "cell_type": "code",
   "execution_count": 13,
   "metadata": {
    "colab": {
     "base_uri": "https://localhost:8080/"
    },
    "executionInfo": {
     "elapsed": 365,
     "status": "ok",
     "timestamp": 1622466811112,
     "user": {
      "displayName": "Shreya Biradar",
      "photoUrl": "",
      "userId": "13626312795578822118"
     },
     "user_tz": -330
    },
    "id": "Bn6XszWAhnjb",
    "outputId": "f8ebe5b9-f501-45b7-a3e8-1a4240dc9be9"
   },
   "outputs": [
    {
     "data": {
      "text/plain": [
       "3"
      ]
     },
     "execution_count": 13,
     "metadata": {
      "tags": []
     },
     "output_type": "execute_result"
    }
   ],
   "source": [
    "27%12"
   ]
  },
  {
   "cell_type": "markdown",
   "metadata": {
    "id": "ZoBFuIvZhnjb"
   },
   "source": [
    "<b> f) Write a code to find Quotient of two intergers in Python. </b>"
   ]
  },
  {
   "cell_type": "code",
   "execution_count": 14,
   "metadata": {
    "colab": {
     "base_uri": "https://localhost:8080/"
    },
    "executionInfo": {
     "elapsed": 577,
     "status": "ok",
     "timestamp": 1622466939513,
     "user": {
      "displayName": "Shreya Biradar",
      "photoUrl": "",
      "userId": "13626312795578822118"
     },
     "user_tz": -330
    },
    "id": "usz6g_Mphnjc",
    "outputId": "5ed3c5d3-409c-4c8d-a746-d52fb4450ed3"
   },
   "outputs": [
    {
     "data": {
      "text/plain": [
       "2"
      ]
     },
     "execution_count": 14,
     "metadata": {
      "tags": []
     },
     "output_type": "execute_result"
    }
   ],
   "source": [
    "27//12"
   ]
  },
  {
   "cell_type": "markdown",
   "metadata": {
    "id": "Ef4RrIZ0hnjc"
   },
   "source": [
    "<b> g) Write a code to add two floating numbers in Python. </b>"
   ]
  },
  {
   "cell_type": "code",
   "execution_count": 15,
   "metadata": {
    "colab": {
     "base_uri": "https://localhost:8080/"
    },
    "executionInfo": {
     "elapsed": 545,
     "status": "ok",
     "timestamp": 1622466969559,
     "user": {
      "displayName": "Shreya Biradar",
      "photoUrl": "",
      "userId": "13626312795578822118"
     },
     "user_tz": -330
    },
    "id": "b4C4Ipkmhnjc",
    "outputId": "d9e2c7ff-d148-4c7f-b5af-e1c25b46d32e"
   },
   "outputs": [
    {
     "data": {
      "text/plain": [
       "13.5"
      ]
     },
     "execution_count": 15,
     "metadata": {
      "tags": []
     },
     "output_type": "execute_result"
    }
   ],
   "source": [
    "9.00+4.50"
   ]
  },
  {
   "cell_type": "markdown",
   "metadata": {
    "id": "0XydwuVAhnjd"
   },
   "source": [
    "<b> h) Write a code to subtract two floating numbers in Python. </b>"
   ]
  },
  {
   "cell_type": "code",
   "execution_count": 16,
   "metadata": {
    "colab": {
     "base_uri": "https://localhost:8080/"
    },
    "executionInfo": {
     "elapsed": 377,
     "status": "ok",
     "timestamp": 1622466988811,
     "user": {
      "displayName": "Shreya Biradar",
      "photoUrl": "",
      "userId": "13626312795578822118"
     },
     "user_tz": -330
    },
    "id": "kO0iG51_hnjd",
    "outputId": "55ec5ba2-525f-4670-9a51-bf5be936d2e3"
   },
   "outputs": [
    {
     "data": {
      "text/plain": [
       "23.152299999999997"
      ]
     },
     "execution_count": 16,
     "metadata": {
      "tags": []
     },
     "output_type": "execute_result"
    }
   ],
   "source": [
    "98.3888-75.2365"
   ]
  },
  {
   "cell_type": "markdown",
   "metadata": {
    "id": "OoolmGP0hnjd"
   },
   "source": [
    "<b> i) Write a code to multiply two floating numbers in Python. </b>"
   ]
  },
  {
   "cell_type": "code",
   "execution_count": 17,
   "metadata": {
    "colab": {
     "base_uri": "https://localhost:8080/"
    },
    "executionInfo": {
     "elapsed": 416,
     "status": "ok",
     "timestamp": 1622467015884,
     "user": {
      "displayName": "Shreya Biradar",
      "photoUrl": "",
      "userId": "13626312795578822118"
     },
     "user_tz": -330
    },
    "id": "ssFDyQg-hnje",
    "outputId": "f01f9d34-dbf0-4f89-e3ae-1ce71cadb48d"
   },
   "outputs": [
    {
     "data": {
      "text/plain": [
       "87176.919612"
      ]
     },
     "execution_count": 17,
     "metadata": {
      "tags": []
     },
     "output_type": "execute_result"
    }
   ],
   "source": [
    "98.2563*887.24"
   ]
  },
  {
   "cell_type": "markdown",
   "metadata": {
    "id": "mja1IF3Shnje"
   },
   "source": [
    "<b> j) Write a code to divide two floating numbers in Python. </b>"
   ]
  },
  {
   "cell_type": "code",
   "execution_count": 18,
   "metadata": {
    "colab": {
     "base_uri": "https://localhost:8080/"
    },
    "executionInfo": {
     "elapsed": 669,
     "status": "ok",
     "timestamp": 1622467051716,
     "user": {
      "displayName": "Shreya Biradar",
      "photoUrl": "",
      "userId": "13626312795578822118"
     },
     "user_tz": -330
    },
    "id": "7NBMDbmrhnje",
    "outputId": "6037b37d-84df-4498-9ecb-8aada64162f5"
   },
   "outputs": [
    {
     "data": {
      "text/plain": [
       "33.92232004142931"
      ]
     },
     "execution_count": 18,
     "metadata": {
      "tags": []
     },
     "output_type": "execute_result"
    }
   ],
   "source": [
    "98.256/2.8965"
   ]
  },
  {
   "cell_type": "markdown",
   "metadata": {
    "id": "XEVrRq1Yhnje"
   },
   "source": [
    "<b> k) Write a code to find reminder of two floating numbers in Python. </b>"
   ]
  },
  {
   "cell_type": "code",
   "execution_count": 19,
   "metadata": {
    "colab": {
     "base_uri": "https://localhost:8080/"
    },
    "executionInfo": {
     "elapsed": 546,
     "status": "ok",
     "timestamp": 1622467070784,
     "user": {
      "displayName": "Shreya Biradar",
      "photoUrl": "",
      "userId": "13626312795578822118"
     },
     "user_tz": -330
    },
    "id": "qQmMHrcPhnjf",
    "outputId": "54a5b1d3-c502-46f9-fb35-a79d319c5e7a"
   },
   "outputs": [
    {
     "data": {
      "text/plain": [
       "0.06253999999999849"
      ]
     },
     "execution_count": 19,
     "metadata": {
      "tags": []
     },
     "output_type": "execute_result"
    }
   ],
   "source": [
    "98.67854%24.654"
   ]
  },
  {
   "cell_type": "markdown",
   "metadata": {
    "id": "eTIgTdC5hnjf"
   },
   "source": [
    "<b> l) Write a code to find Quotient of two floating numbers in Python. </b>"
   ]
  },
  {
   "cell_type": "code",
   "execution_count": 20,
   "metadata": {
    "colab": {
     "base_uri": "https://localhost:8080/"
    },
    "executionInfo": {
     "elapsed": 375,
     "status": "ok",
     "timestamp": 1622467098802,
     "user": {
      "displayName": "Shreya Biradar",
      "photoUrl": "",
      "userId": "13626312795578822118"
     },
     "user_tz": -330
    },
    "id": "M-N7pTq3hnjf",
    "outputId": "36686605-1942-4ae5-b186-bdbfed3eee7f"
   },
   "outputs": [
    {
     "data": {
      "text/plain": [
       "2.0"
      ]
     },
     "execution_count": 20,
     "metadata": {
      "tags": []
     },
     "output_type": "execute_result"
    }
   ],
   "source": [
    "85.6354//36.2544"
   ]
  },
  {
   "cell_type": "markdown",
   "metadata": {
    "id": "sLuP7BA_hnjg"
   },
   "source": [
    "<b> m) Write a code to find $8^{16}$. </b>"
   ]
  },
  {
   "cell_type": "code",
   "execution_count": 21,
   "metadata": {
    "colab": {
     "base_uri": "https://localhost:8080/"
    },
    "executionInfo": {
     "elapsed": 5,
     "status": "ok",
     "timestamp": 1622467115453,
     "user": {
      "displayName": "Shreya Biradar",
      "photoUrl": "",
      "userId": "13626312795578822118"
     },
     "user_tz": -330
    },
    "id": "D__oNT8Shnjg",
    "outputId": "9d00511e-4fac-491a-dd30-a64097ef175e"
   },
   "outputs": [
    {
     "data": {
      "text/plain": [
       "281474976710656"
      ]
     },
     "execution_count": 21,
     "metadata": {
      "tags": []
     },
     "output_type": "execute_result"
    }
   ],
   "source": [
    "8**16"
   ]
  },
  {
   "cell_type": "markdown",
   "metadata": {
    "id": "qp7sd40Jhnjg"
   },
   "source": [
    "<b> n) Solve the following equation using python code: 8 + 9 * 6 + 5 * 7 + 3 .</b>"
   ]
  },
  {
   "cell_type": "code",
   "execution_count": 22,
   "metadata": {
    "colab": {
     "base_uri": "https://localhost:8080/"
    },
    "executionInfo": {
     "elapsed": 365,
     "status": "ok",
     "timestamp": 1622467378040,
     "user": {
      "displayName": "Shreya Biradar",
      "photoUrl": "",
      "userId": "13626312795578822118"
     },
     "user_tz": -330
    },
    "id": "BeIIdttIhnjg",
    "outputId": "93f2627d-e912-4f7b-b496-1306acddce8e"
   },
   "outputs": [
    {
     "data": {
      "text/plain": [
       "100"
      ]
     },
     "execution_count": 22,
     "metadata": {
      "tags": []
     },
     "output_type": "execute_result"
    }
   ],
   "source": [
    "8+9*6+5*7+3"
   ]
  },
  {
   "cell_type": "markdown",
   "metadata": {
    "id": "s8qzYSmehnjh"
   },
   "source": [
    "<b> o) Solve the following equation using python code: (2+5) * (4+5) * (7+8). </b>"
   ]
  },
  {
   "cell_type": "code",
   "execution_count": 23,
   "metadata": {
    "colab": {
     "base_uri": "https://localhost:8080/"
    },
    "executionInfo": {
     "elapsed": 352,
     "status": "ok",
     "timestamp": 1622467429836,
     "user": {
      "displayName": "Shreya Biradar",
      "photoUrl": "",
      "userId": "13626312795578822118"
     },
     "user_tz": -330
    },
    "id": "Eo2op1TWhnjh",
    "outputId": "27278d47-504f-4442-d969-339cb7b7e74d"
   },
   "outputs": [
    {
     "data": {
      "text/plain": [
       "945"
      ]
     },
     "execution_count": 23,
     "metadata": {
      "tags": []
     },
     "output_type": "execute_result"
    }
   ],
   "source": [
    "(2+5)*(4+5)*(7+8)"
   ]
  },
  {
   "cell_type": "markdown",
   "metadata": {
    "id": "4DBVzvrxhnjh"
   },
   "source": [
    "<b> p) Write a python code to store a 5 to the variable var and 9.0 to the variable var_1. </b>"
   ]
  },
  {
   "cell_type": "code",
   "execution_count": 26,
   "metadata": {
    "executionInfo": {
     "elapsed": 357,
     "status": "ok",
     "timestamp": 1622467484813,
     "user": {
      "displayName": "Shreya Biradar",
      "photoUrl": "",
      "userId": "13626312795578822118"
     },
     "user_tz": -330
    },
    "id": "2GuOREWGhnji"
   },
   "outputs": [],
   "source": [
    "var = 5\n",
    "var_1 = 9.0"
   ]
  },
  {
   "cell_type": "markdown",
   "metadata": {
    "id": "5wsukPlAhnji"
   },
   "source": [
    "<b> q) Display type of variable var and variable var_1 without using print statement. <b>"
   ]
  },
  {
   "cell_type": "code",
   "execution_count": 31,
   "metadata": {
    "colab": {
     "base_uri": "https://localhost:8080/"
    },
    "executionInfo": {
     "elapsed": 1090,
     "status": "ok",
     "timestamp": 1622467613822,
     "user": {
      "displayName": "Shreya Biradar",
      "photoUrl": "",
      "userId": "13626312795578822118"
     },
     "user_tz": -330
    },
    "id": "79Vm1QSVmtd9",
    "outputId": "052d73b2-14a8-4660-99f4-6a388038e8ba"
   },
   "outputs": [
    {
     "data": {
      "text/plain": [
       "int"
      ]
     },
     "execution_count": 31,
     "metadata": {
      "tags": []
     },
     "output_type": "execute_result"
    }
   ],
   "source": [
    "type(var)"
   ]
  },
  {
   "cell_type": "code",
   "execution_count": 32,
   "metadata": {
    "colab": {
     "base_uri": "https://localhost:8080/"
    },
    "executionInfo": {
     "elapsed": 340,
     "status": "ok",
     "timestamp": 1622467630226,
     "user": {
      "displayName": "Shreya Biradar",
      "photoUrl": "",
      "userId": "13626312795578822118"
     },
     "user_tz": -330
    },
    "id": "Svxb2ndxmyB-",
    "outputId": "a7956c1a-6065-41a2-aacf-09761ab4dea5"
   },
   "outputs": [
    {
     "data": {
      "text/plain": [
       "float"
      ]
     },
     "execution_count": 32,
     "metadata": {
      "tags": []
     },
     "output_type": "execute_result"
    }
   ],
   "source": [
    "type(var_1)"
   ]
  },
  {
   "cell_type": "markdown",
   "metadata": {
    "id": "hko5ElE2hnjj"
   },
   "source": [
    "<b> r) Can a variable name can contain a symobls like #$%^ ?. Prove this with an example through python code </b>"
   ]
  },
  {
   "cell_type": "code",
   "execution_count": 33,
   "metadata": {
    "colab": {
     "base_uri": "https://localhost:8080/",
     "height": 131
    },
    "executionInfo": {
     "elapsed": 833,
     "status": "error",
     "timestamp": 1622467685503,
     "user": {
      "displayName": "Shreya Biradar",
      "photoUrl": "",
      "userId": "13626312795578822118"
     },
     "user_tz": -330
    },
    "id": "m2TchfrChnjj",
    "outputId": "377304fb-84cb-4bf9-d3f6-9b82eb5ce0e5"
   },
   "outputs": [
    {
     "ename": "SyntaxError",
     "evalue": "ignored",
     "output_type": "error",
     "traceback": [
      "\u001b[0;36m  File \u001b[0;32m\"<ipython-input-33-f5b7e415acb3>\"\u001b[0;36m, line \u001b[0;32m2\u001b[0m\n\u001b[0;31m    $var =2\u001b[0m\n\u001b[0m    ^\u001b[0m\n\u001b[0;31mSyntaxError\u001b[0m\u001b[0;31m:\u001b[0m invalid syntax\n"
     ]
    }
   ],
   "source": [
    "#no it shouldn't contain any special symbol\n",
    "$var =2"
   ]
  },
  {
   "cell_type": "markdown",
   "metadata": {
    "id": "_T6jA94-hnjj"
   },
   "source": [
    "<b> s) Can a variable name can contain a keywords like for, if, else ?. Prove this with an example through python code </b>"
   ]
  },
  {
   "cell_type": "code",
   "execution_count": 34,
   "metadata": {
    "colab": {
     "base_uri": "https://localhost:8080/",
     "height": 131
    },
    "executionInfo": {
     "elapsed": 344,
     "status": "error",
     "timestamp": 1622467742333,
     "user": {
      "displayName": "Shreya Biradar",
      "photoUrl": "",
      "userId": "13626312795578822118"
     },
     "user_tz": -330
    },
    "id": "exNa6fYuhnjj",
    "outputId": "49a68209-2483-4514-cbc2-8f25bae430df"
   },
   "outputs": [
    {
     "ename": "SyntaxError",
     "evalue": "ignored",
     "output_type": "error",
     "traceback": [
      "\u001b[0;36m  File \u001b[0;32m\"<ipython-input-34-ddcf89ff638b>\"\u001b[0;36m, line \u001b[0;32m2\u001b[0m\n\u001b[0;31m    if =98\u001b[0m\n\u001b[0m       ^\u001b[0m\n\u001b[0;31mSyntaxError\u001b[0m\u001b[0;31m:\u001b[0m invalid syntax\n"
     ]
    }
   ],
   "source": [
    "#no \n",
    "if =98"
   ]
  },
  {
   "cell_type": "markdown",
   "metadata": {
    "id": "uKHD9C1_hnjk"
   },
   "source": [
    "<b> t) Can a variable name can start with a number like 2a, 2var, 2b ?. Prove this with an example through python code </b>"
   ]
  },
  {
   "cell_type": "code",
   "execution_count": 36,
   "metadata": {
    "colab": {
     "base_uri": "https://localhost:8080/",
     "height": 131
    },
    "executionInfo": {
     "elapsed": 1213,
     "status": "error",
     "timestamp": 1622467814371,
     "user": {
      "displayName": "Shreya Biradar",
      "photoUrl": "",
      "userId": "13626312795578822118"
     },
     "user_tz": -330
    },
    "id": "jx95_Bqjhnjk",
    "outputId": "3c56421d-57f2-4480-f5de-65200073a12c"
   },
   "outputs": [
    {
     "ename": "SyntaxError",
     "evalue": "ignored",
     "output_type": "error",
     "traceback": [
      "\u001b[0;36m  File \u001b[0;32m\"<ipython-input-36-bd3b2ca16da7>\"\u001b[0;36m, line \u001b[0;32m2\u001b[0m\n\u001b[0;31m    2var_1 =98\u001b[0m\n\u001b[0m         ^\u001b[0m\n\u001b[0;31mSyntaxError\u001b[0m\u001b[0;31m:\u001b[0m invalid syntax\n"
     ]
    }
   ],
   "source": [
    "#no\n",
    "2var_1 =98"
   ]
  },
  {
   "cell_type": "markdown",
   "metadata": {
    "id": "7-9FmmBBhnjk"
   },
   "source": [
    "<b>u) Store two values in two different variables and perform addition operation on those variables.</b>"
   ]
  },
  {
   "cell_type": "code",
   "execution_count": 39,
   "metadata": {
    "colab": {
     "base_uri": "https://localhost:8080/"
    },
    "executionInfo": {
     "elapsed": 406,
     "status": "ok",
     "timestamp": 1622467874408,
     "user": {
      "displayName": "Shreya Biradar",
      "photoUrl": "",
      "userId": "13626312795578822118"
     },
     "user_tz": -330
    },
    "id": "O1fstUWThnjk",
    "outputId": "b50578d8-eb8d-4937-aa32-0ed5479d5102"
   },
   "outputs": [
    {
     "data": {
      "text/plain": [
       "106"
      ]
     },
     "execution_count": 39,
     "metadata": {
      "tags": []
     },
     "output_type": "execute_result"
    }
   ],
   "source": [
    "x=10\n",
    "y=96\n",
    "a=x+y\n",
    "a"
   ]
  },
  {
   "cell_type": "markdown",
   "metadata": {
    "id": "XIg6cuaFhnjl"
   },
   "source": [
    "### 3. Strings"
   ]
  },
  {
   "cell_type": "markdown",
   "metadata": {
    "id": "qXnykPpIhnjl"
   },
   "source": [
    "<b> a) Without using print statement display (Laughter is a best medicine) in single and double quote. </b>"
   ]
  },
  {
   "cell_type": "code",
   "execution_count": 41,
   "metadata": {
    "colab": {
     "base_uri": "https://localhost:8080/",
     "height": 35
    },
    "executionInfo": {
     "elapsed": 420,
     "status": "ok",
     "timestamp": 1622468142914,
     "user": {
      "displayName": "Shreya Biradar",
      "photoUrl": "",
      "userId": "13626312795578822118"
     },
     "user_tz": -330
    },
    "id": "FN32E1fVhnjl",
    "outputId": "507d3783-a36a-408c-d5c1-fea0e554c722"
   },
   "outputs": [
    {
     "data": {
      "application/vnd.google.colaboratory.intrinsic+json": {
       "type": "string"
      },
      "text/plain": [
       "'Laughter is a best medicine'"
      ]
     },
     "execution_count": 41,
     "metadata": {
      "tags": []
     },
     "output_type": "execute_result"
    }
   ],
   "source": [
    "'Laughter is a best medicine'"
   ]
  },
  {
   "cell_type": "code",
   "execution_count": 42,
   "metadata": {
    "colab": {
     "base_uri": "https://localhost:8080/",
     "height": 35
    },
    "executionInfo": {
     "elapsed": 333,
     "status": "ok",
     "timestamp": 1622468151420,
     "user": {
      "displayName": "Shreya Biradar",
      "photoUrl": "",
      "userId": "13626312795578822118"
     },
     "user_tz": -330
    },
    "id": "YS3Ssl9Mhnjl",
    "outputId": "e973b5f4-dec1-4727-afca-b4317dd8b9e5"
   },
   "outputs": [
    {
     "data": {
      "application/vnd.google.colaboratory.intrinsic+json": {
       "type": "string"
      },
      "text/plain": [
       "'Laughter is a best medicine'"
      ]
     },
     "execution_count": 42,
     "metadata": {
      "tags": []
     },
     "output_type": "execute_result"
    }
   ],
   "source": [
    "\"Laughter is a best medicine\""
   ]
  },
  {
   "cell_type": "markdown",
   "metadata": {
    "id": "DBpEyHoohnjm"
   },
   "source": [
    "<b> b) Without using print statement display (I can't eat pizza tonight) in single and double quote. </b>"
   ]
  },
  {
   "cell_type": "code",
   "execution_count": 43,
   "metadata": {
    "colab": {
     "base_uri": "https://localhost:8080/",
     "height": 131
    },
    "executionInfo": {
     "elapsed": 348,
     "status": "error",
     "timestamp": 1622468184923,
     "user": {
      "displayName": "Shreya Biradar",
      "photoUrl": "",
      "userId": "13626312795578822118"
     },
     "user_tz": -330
    },
    "id": "k748YMOfhnjm",
    "outputId": "f79f692c-5fe1-4831-da44-af54c61e47de"
   },
   "outputs": [
    {
     "ename": "SyntaxError",
     "evalue": "ignored",
     "output_type": "error",
     "traceback": [
      "\u001b[0;36m  File \u001b[0;32m\"<ipython-input-43-96222eb38185>\"\u001b[0;36m, line \u001b[0;32m1\u001b[0m\n\u001b[0;31m    'I can't eat pizza tonight'\u001b[0m\n\u001b[0m           ^\u001b[0m\n\u001b[0;31mSyntaxError\u001b[0m\u001b[0;31m:\u001b[0m invalid syntax\n"
     ]
    }
   ],
   "source": [
    "'I can't eat pizza tonight'"
   ]
  },
  {
   "cell_type": "code",
   "execution_count": 44,
   "metadata": {
    "colab": {
     "base_uri": "https://localhost:8080/",
     "height": 35
    },
    "executionInfo": {
     "elapsed": 354,
     "status": "ok",
     "timestamp": 1622468197625,
     "user": {
      "displayName": "Shreya Biradar",
      "photoUrl": "",
      "userId": "13626312795578822118"
     },
     "user_tz": -330
    },
    "id": "IsHx7KVbhnjm",
    "outputId": "81ad8e27-469b-48de-8bec-1f24ee345e3d"
   },
   "outputs": [
    {
     "data": {
      "application/vnd.google.colaboratory.intrinsic+json": {
       "type": "string"
      },
      "text/plain": [
       "\"I can't eat pizza tonight\""
      ]
     },
     "execution_count": 44,
     "metadata": {
      "tags": []
     },
     "output_type": "execute_result"
    }
   ],
   "source": [
    "\"I can't eat pizza tonight\""
   ]
  },
  {
   "cell_type": "markdown",
   "metadata": {
    "id": "oe7PmTl1hnjm"
   },
   "source": [
    "<b> c) Store a string (Hello) in a variable a and display without using print statement. </b>"
   ]
  },
  {
   "cell_type": "code",
   "execution_count": 45,
   "metadata": {
    "executionInfo": {
     "elapsed": 385,
     "status": "ok",
     "timestamp": 1622468224573,
     "user": {
      "displayName": "Shreya Biradar",
      "photoUrl": "",
      "userId": "13626312795578822118"
     },
     "user_tz": -330
    },
    "id": "_5koDB1Vhnjn"
   },
   "outputs": [],
   "source": [
    "s ='hello'"
   ]
  },
  {
   "cell_type": "code",
   "execution_count": 46,
   "metadata": {
    "colab": {
     "base_uri": "https://localhost:8080/",
     "height": 35
    },
    "executionInfo": {
     "elapsed": 6,
     "status": "ok",
     "timestamp": 1622468226667,
     "user": {
      "displayName": "Shreya Biradar",
      "photoUrl": "",
      "userId": "13626312795578822118"
     },
     "user_tz": -330
    },
    "id": "vTnpq4Ichnjn",
    "outputId": "4a6eab7c-74c1-4ba9-e482-269f3e1c3c39"
   },
   "outputs": [
    {
     "data": {
      "application/vnd.google.colaboratory.intrinsic+json": {
       "type": "string"
      },
      "text/plain": [
       "'hello'"
      ]
     },
     "execution_count": 46,
     "metadata": {
      "tags": []
     },
     "output_type": "execute_result"
    }
   ],
   "source": [
    "s"
   ]
  },
  {
   "cell_type": "markdown",
   "metadata": {
    "id": "slaoeeghhnjn"
   },
   "source": [
    "<b> d) Store two string values in two different variables and perform addition operations on that. </b>"
   ]
  },
  {
   "cell_type": "code",
   "execution_count": 48,
   "metadata": {
    "executionInfo": {
     "elapsed": 364,
     "status": "ok",
     "timestamp": 1622468288690,
     "user": {
      "displayName": "Shreya Biradar",
      "photoUrl": "",
      "userId": "13626312795578822118"
     },
     "user_tz": -330
    },
    "id": "prz4yh5Shnjn"
   },
   "outputs": [],
   "source": [
    "s = 'like and '\n",
    "t = 'share'"
   ]
  },
  {
   "cell_type": "code",
   "execution_count": 50,
   "metadata": {
    "colab": {
     "base_uri": "https://localhost:8080/",
     "height": 35
    },
    "executionInfo": {
     "elapsed": 370,
     "status": "ok",
     "timestamp": 1622468414802,
     "user": {
      "displayName": "Shreya Biradar",
      "photoUrl": "",
      "userId": "13626312795578822118"
     },
     "user_tz": -330
    },
    "id": "pXYI-Tpthnjo",
    "outputId": "eb9d98a9-b0f7-42c4-cc36-ff0229730666"
   },
   "outputs": [
    {
     "data": {
      "application/vnd.google.colaboratory.intrinsic+json": {
       "type": "string"
      },
      "text/plain": [
       "'like and share'"
      ]
     },
     "execution_count": 50,
     "metadata": {
      "tags": []
     },
     "output_type": "execute_result"
    }
   ],
   "source": [
    "s+t"
   ]
  },
  {
   "cell_type": "markdown",
   "metadata": {
    "id": "bouvR7cahnjo"
   },
   "source": [
    "<b> e) Store your name in a variable and multiply that variable by 5.</b>"
   ]
  },
  {
   "cell_type": "code",
   "execution_count": 53,
   "metadata": {
    "executionInfo": {
     "elapsed": 369,
     "status": "ok",
     "timestamp": 1622468439683,
     "user": {
      "displayName": "Shreya Biradar",
      "photoUrl": "",
      "userId": "13626312795578822118"
     },
     "user_tz": -330
    },
    "id": "Xk4VojCPhnjo"
   },
   "outputs": [],
   "source": [
    "s = 'JiggerJingania'"
   ]
  },
  {
   "cell_type": "code",
   "execution_count": 54,
   "metadata": {
    "colab": {
     "base_uri": "https://localhost:8080/",
     "height": 35
    },
    "executionInfo": {
     "elapsed": 356,
     "status": "ok",
     "timestamp": 1622468444239,
     "user": {
      "displayName": "Shreya Biradar",
      "photoUrl": "",
      "userId": "13626312795578822118"
     },
     "user_tz": -330
    },
    "id": "72nLyK0Fhnjo",
    "outputId": "377898ac-856f-4234-98a3-8ff448589fed"
   },
   "outputs": [
    {
     "data": {
      "application/vnd.google.colaboratory.intrinsic+json": {
       "type": "string"
      },
      "text/plain": [
       "'JiggerJinganiaJiggerJinganiaJiggerJinganiaJiggerJinganiaJiggerJingania'"
      ]
     },
     "execution_count": 54,
     "metadata": {
      "tags": []
     },
     "output_type": "execute_result"
    }
   ],
   "source": [
    "s*5"
   ]
  },
  {
   "cell_type": "markdown",
   "metadata": {
    "id": "e9r1Mzd5hnjp"
   },
   "source": [
    "<b> f) Store string in one variable and store an integer in another variable and perform addition operation on both the variable. (If you get an error solve the error and display the answer) </b>"
   ]
  },
  {
   "cell_type": "code",
   "execution_count": 1,
   "metadata": {
    "executionInfo": {
     "elapsed": 499,
     "status": "ok",
     "timestamp": 1622468579532,
     "user": {
      "displayName": "Shreya Biradar",
      "photoUrl": "",
      "userId": "13626312795578822118"
     },
     "user_tz": -330
    },
    "id": "VDzWhqG8hnjp"
   },
   "outputs": [],
   "source": [
    "s= 'hello'\n",
    "t= 77"
   ]
  },
  {
   "cell_type": "code",
   "execution_count": 2,
   "metadata": {
    "colab": {
     "base_uri": "https://localhost:8080/",
     "height": 166
    },
    "executionInfo": {
     "elapsed": 7,
     "status": "error",
     "timestamp": 1622468581901,
     "user": {
      "displayName": "Shreya Biradar",
      "photoUrl": "",
      "userId": "13626312795578822118"
     },
     "user_tz": -330
    },
    "id": "Xf5Ebqashnjp",
    "outputId": "de18250b-1192-43ee-8964-b227acaa9315"
   },
   "outputs": [
    {
     "ename": "TypeError",
     "evalue": "can only concatenate str (not \"int\") to str",
     "output_type": "error",
     "traceback": [
      "\u001b[1;31m---------------------------------------------------------------------------\u001b[0m",
      "\u001b[1;31mTypeError\u001b[0m                                 Traceback (most recent call last)",
      "\u001b[1;32m<ipython-input-2-6d08ac7770fb>\u001b[0m in \u001b[0;36m<module>\u001b[1;34m\u001b[0m\n\u001b[1;32m----> 1\u001b[1;33m \u001b[0ms\u001b[0m\u001b[1;33m+\u001b[0m\u001b[0mt\u001b[0m\u001b[1;33m\u001b[0m\u001b[1;33m\u001b[0m\u001b[0m\n\u001b[0m",
      "\u001b[1;31mTypeError\u001b[0m: can only concatenate str (not \"int\") to str"
     ]
    }
   ],
   "source": [
    "s+t"
   ]
  },
  {
   "cell_type": "code",
   "execution_count": 61,
   "metadata": {
    "colab": {
     "base_uri": "https://localhost:8080/",
     "height": 35
    },
    "executionInfo": {
     "elapsed": 6,
     "status": "ok",
     "timestamp": 1622468585037,
     "user": {
      "displayName": "Shreya Biradar",
      "photoUrl": "",
      "userId": "13626312795578822118"
     },
     "user_tz": -330
    },
    "id": "LzEtnROchnjp",
    "outputId": "98ece009-9b35-4043-ec31-307beb0ff5fe"
   },
   "outputs": [
    {
     "data": {
      "application/vnd.google.colaboratory.intrinsic+json": {
       "type": "string"
      },
      "text/plain": [
       "'hello77'"
      ]
     },
     "execution_count": 61,
     "metadata": {
      "tags": []
     },
     "output_type": "execute_result"
    }
   ],
   "source": [
    "s+str(t)"
   ]
  },
  {
   "cell_type": "markdown",
   "metadata": {
    "id": "mNMp6fthhnjq"
   },
   "source": [
    "### 4. Print Statement"
   ]
  },
  {
   "cell_type": "markdown",
   "metadata": {
    "id": "Mf66gKlphnjq"
   },
   "source": [
    "<b> a) Store a integer value in a variable and display it using print function and display function"
   ]
  },
  {
   "cell_type": "code",
   "execution_count": 62,
   "metadata": {
    "executionInfo": {
     "elapsed": 365,
     "status": "ok",
     "timestamp": 1622468608985,
     "user": {
      "displayName": "Shreya Biradar",
      "photoUrl": "",
      "userId": "13626312795578822118"
     },
     "user_tz": -330
    },
    "id": "MQg08puQhnjq"
   },
   "outputs": [],
   "source": [
    "s= 77"
   ]
  },
  {
   "cell_type": "code",
   "execution_count": 63,
   "metadata": {
    "colab": {
     "base_uri": "https://localhost:8080/"
    },
    "executionInfo": {
     "elapsed": 6,
     "status": "ok",
     "timestamp": 1622468615672,
     "user": {
      "displayName": "Shreya Biradar",
      "photoUrl": "",
      "userId": "13626312795578822118"
     },
     "user_tz": -330
    },
    "id": "Fc8pAPZ5hnjq",
    "outputId": "7df64d69-c50d-44cd-f043-5548053a985c"
   },
   "outputs": [
    {
     "name": "stdout",
     "output_type": "stream",
     "text": [
      "77\n"
     ]
    }
   ],
   "source": [
    "print(s)"
   ]
  },
  {
   "cell_type": "markdown",
   "metadata": {
    "id": "Ky0cdlZehnjr"
   },
   "source": [
    "<b> b) Store a string value in a variable and display it using print function and display function"
   ]
  },
  {
   "cell_type": "code",
   "execution_count": 64,
   "metadata": {
    "executionInfo": {
     "elapsed": 363,
     "status": "ok",
     "timestamp": 1622468653324,
     "user": {
      "displayName": "Shreya Biradar",
      "photoUrl": "",
      "userId": "13626312795578822118"
     },
     "user_tz": -330
    },
    "id": "UEvxft7Thnjr"
   },
   "outputs": [],
   "source": [
    "s = 'Namaskara'"
   ]
  },
  {
   "cell_type": "code",
   "execution_count": 65,
   "metadata": {
    "colab": {
     "base_uri": "https://localhost:8080/"
    },
    "executionInfo": {
     "elapsed": 948,
     "status": "ok",
     "timestamp": 1622468661609,
     "user": {
      "displayName": "Shreya Biradar",
      "photoUrl": "",
      "userId": "13626312795578822118"
     },
     "user_tz": -330
    },
    "id": "ezoRPhEchnjr",
    "outputId": "564792d9-2706-4108-a25d-03c8c16add14"
   },
   "outputs": [
    {
     "name": "stdout",
     "output_type": "stream",
     "text": [
      "Namaskara\n"
     ]
    }
   ],
   "source": [
    "print(s)"
   ]
  },
  {
   "cell_type": "code",
   "execution_count": 66,
   "metadata": {
    "colab": {
     "base_uri": "https://localhost:8080/",
     "height": 35
    },
    "executionInfo": {
     "elapsed": 349,
     "status": "ok",
     "timestamp": 1622468681902,
     "user": {
      "displayName": "Shreya Biradar",
      "photoUrl": "",
      "userId": "13626312795578822118"
     },
     "user_tz": -330
    },
    "id": "wwacXdxIhnjs",
    "outputId": "876cd289-275d-46f9-ff38-d4fc6e07420a"
   },
   "outputs": [
    {
     "data": {
      "application/vnd.google.colaboratory.intrinsic+json": {
       "type": "string"
      },
      "text/plain": [
       "'Namaskara'"
      ]
     },
     "metadata": {
      "tags": []
     },
     "output_type": "display_data"
    }
   ],
   "source": [
    "display(s)"
   ]
  },
  {
   "cell_type": "markdown",
   "metadata": {
    "id": "HVPzasjahnjs"
   },
   "source": [
    "<b> c) Store two integers value in two different variables a,b and perform addition operation on it and store it in variable c. Store (Hello, Python) in a variable j. Print (string variable) addition of two numbers is (addition variable) using flower braces and format function. </b>"
   ]
  },
  {
   "cell_type": "code",
   "execution_count": 67,
   "metadata": {
    "colab": {
     "base_uri": "https://localhost:8080/"
    },
    "executionInfo": {
     "elapsed": 1227,
     "status": "ok",
     "timestamp": 1622468928302,
     "user": {
      "displayName": "Shreya Biradar",
      "photoUrl": "",
      "userId": "13626312795578822118"
     },
     "user_tz": -330
    },
    "id": "nJ3iL1Ashnjs",
    "outputId": "4d0441c5-3c3f-42e0-d2e1-a58edec8dd62"
   },
   "outputs": [
    {
     "name": "stdout",
     "output_type": "stream",
     "text": [
      "Hello, Python Addition of Two number is 131\n"
     ]
    }
   ],
   "source": [
    "a = 33\n",
    "b = 98\n",
    "j= 'Hello, Python'\n",
    "c = a + b\n",
    "print('{} Addition of Two number is {}'.format(j,c))"
   ]
  },
  {
   "cell_type": "markdown",
   "metadata": {
    "id": "hW3W407Zhnjs"
   },
   "source": [
    "<b>d) Try all the following operations: <br>\n",
    "    1. print('{} Addition of Two number is {}'.format(j,c)) <br>\n",
    "    2. print('{} Addition of Two number is {}'.format(c,j)) <br>\n",
    "    3. print('{one} Addition of Two number is {two}'.format(one=j,two=c)) <br>\n",
    "    4. print('{one} Addition of Two number is {two}'.format(two=c,one=j)) <br>\n",
    "    5. print('{one} Addition of Two number is {two} and only {two}'.format(two=c,one=j)) <br>\n",
    "    6. print('Addition of two numbers is ',c) <br>\n",
    "    7. print('Addition of two numbers is %d'%c) <br>\n",
    "    8. print(j + ' Addition of Two numbers  is ' + str(c)) <br>\n",
    "    \n",
    "    Please explain what is going on in all the above operations"
   ]
  },
  {
   "cell_type": "code",
   "execution_count": 68,
   "metadata": {
    "colab": {
     "base_uri": "https://localhost:8080/"
    },
    "executionInfo": {
     "elapsed": 380,
     "status": "ok",
     "timestamp": 1622468973537,
     "user": {
      "displayName": "Shreya Biradar",
      "photoUrl": "",
      "userId": "13626312795578822118"
     },
     "user_tz": -330
    },
    "id": "gFrw0Sg-hnjt",
    "outputId": "7688c3a9-3238-4969-ecb0-11040a79e35c"
   },
   "outputs": [
    {
     "name": "stdout",
     "output_type": "stream",
     "text": [
      "Hello, Python Addition of Two number is 131\n"
     ]
    }
   ],
   "source": [
    "print('{} Addition of Two number is {}'.format(j,c))\n",
    "# formating in order "
   ]
  },
  {
   "cell_type": "code",
   "execution_count": 69,
   "metadata": {
    "colab": {
     "base_uri": "https://localhost:8080/"
    },
    "executionInfo": {
     "elapsed": 1035,
     "status": "ok",
     "timestamp": 1622469129187,
     "user": {
      "displayName": "Shreya Biradar",
      "photoUrl": "",
      "userId": "13626312795578822118"
     },
     "user_tz": -330
    },
    "id": "U9aAQeT1sZMY",
    "outputId": "5aa8832e-357f-48e5-e3b5-b2ef4a4af482"
   },
   "outputs": [
    {
     "name": "stdout",
     "output_type": "stream",
     "text": [
      "131 Addition of Two number is Hello, Python\n"
     ]
    }
   ],
   "source": [
    "print('{} Addition of Two number is {}'.format(c,j))\n",
    "# exchange of c and j in format order"
   ]
  },
  {
   "cell_type": "code",
   "execution_count": 70,
   "metadata": {
    "colab": {
     "base_uri": "https://localhost:8080/"
    },
    "executionInfo": {
     "elapsed": 700,
     "status": "ok",
     "timestamp": 1622469241943,
     "user": {
      "displayName": "Shreya Biradar",
      "photoUrl": "",
      "userId": "13626312795578822118"
     },
     "user_tz": -330
    },
    "id": "c2vDEs39slKe",
    "outputId": "44fa4095-bea8-429f-ec43-89a381189f56"
   },
   "outputs": [
    {
     "name": "stdout",
     "output_type": "stream",
     "text": [
      "Hello, Python Addition of Two number is 131\n"
     ]
    }
   ],
   "source": [
    "print('{one} Addition of Two number is {two}'.format(one=j,two=c))\n",
    "# substituting in place of one=j and in place of two=c"
   ]
  },
  {
   "cell_type": "code",
   "execution_count": 71,
   "metadata": {
    "colab": {
     "base_uri": "https://localhost:8080/"
    },
    "executionInfo": {
     "elapsed": 10886,
     "status": "ok",
     "timestamp": 1622469321558,
     "user": {
      "displayName": "Shreya Biradar",
      "photoUrl": "",
      "userId": "13626312795578822118"
     },
     "user_tz": -330
    },
    "id": "6oSa72S0tFWt",
    "outputId": "37a2f780-0088-4d94-cd6d-5a246a9a46b3"
   },
   "outputs": [
    {
     "name": "stdout",
     "output_type": "stream",
     "text": [
      "Hello, Python Addition of Two number is 131\n"
     ]
    }
   ],
   "source": [
    " print('{one} Addition of Two number is {two}'.format(two=c,one=j))\n",
    " #exchanging the values of one and two"
   ]
  },
  {
   "cell_type": "code",
   "execution_count": 72,
   "metadata": {
    "colab": {
     "base_uri": "https://localhost:8080/"
    },
    "executionInfo": {
     "elapsed": 5,
     "status": "ok",
     "timestamp": 1622469397671,
     "user": {
      "displayName": "Shreya Biradar",
      "photoUrl": "",
      "userId": "13626312795578822118"
     },
     "user_tz": -330
    },
    "id": "Y67SHGK3taK_",
    "outputId": "fe858232-6b3e-47cb-c03b-f16faf82e929"
   },
   "outputs": [
    {
     "name": "stdout",
     "output_type": "stream",
     "text": [
      "Hello, Python Addition of Two number is 131 and only 131\n"
     ]
    }
   ],
   "source": [
    " print('{one} Addition of Two number is {two} and only {two}'.format(two=c,one=j))\n",
    " #print variable twice"
   ]
  },
  {
   "cell_type": "code",
   "execution_count": 73,
   "metadata": {
    "colab": {
     "base_uri": "https://localhost:8080/"
    },
    "executionInfo": {
     "elapsed": 366,
     "status": "ok",
     "timestamp": 1622469450290,
     "user": {
      "displayName": "Shreya Biradar",
      "photoUrl": "",
      "userId": "13626312795578822118"
     },
     "user_tz": -330
    },
    "id": "0CKggEvCtrdO",
    "outputId": "84ae8f88-b6d4-4417-883e-595718814ef9"
   },
   "outputs": [
    {
     "name": "stdout",
     "output_type": "stream",
     "text": [
      "Addition of two numbers is  131\n"
     ]
    }
   ],
   "source": [
    "print('Addition of two numbers is ',c)\n",
    "#the added value will be stored in c and it is printed"
   ]
  },
  {
   "cell_type": "code",
   "execution_count": 74,
   "metadata": {
    "colab": {
     "base_uri": "https://localhost:8080/"
    },
    "executionInfo": {
     "elapsed": 348,
     "status": "ok",
     "timestamp": 1622469533364,
     "user": {
      "displayName": "Shreya Biradar",
      "photoUrl": "",
      "userId": "13626312795578822118"
     },
     "user_tz": -330
    },
    "id": "O-UKz6ebt6Wh",
    "outputId": "94349684-126b-460f-a0ca-f1fd8cfe0b3b"
   },
   "outputs": [
    {
     "name": "stdout",
     "output_type": "stream",
     "text": [
      "Addition of two numbers is 131\n"
     ]
    }
   ],
   "source": [
    "print('Addition of two numbers is %d'%c)\n",
    "#addition of two numbers in a different way and will be printed"
   ]
  },
  {
   "cell_type": "code",
   "execution_count": 75,
   "metadata": {
    "colab": {
     "base_uri": "https://localhost:8080/"
    },
    "executionInfo": {
     "elapsed": 407,
     "status": "ok",
     "timestamp": 1622469615117,
     "user": {
      "displayName": "Shreya Biradar",
      "photoUrl": "",
      "userId": "13626312795578822118"
     },
     "user_tz": -330
    },
    "id": "B7r3xa4muH89",
    "outputId": "a6ecb661-3d24-4dab-c279-250d5ebe43ca"
   },
   "outputs": [
    {
     "name": "stdout",
     "output_type": "stream",
     "text": [
      "Hello, Python Addition of Two numbers is 131\n"
     ]
    }
   ],
   "source": [
    "print(j + ' Addition of Two numbers is ' + str(c))\n",
    "#different way of printing"
   ]
  },
  {
   "cell_type": "markdown",
   "metadata": {
    "id": "2_y6VK7ohnjt"
   },
   "source": [
    "<b> e) Store (Python Programming) in a variable and print the value from 0 to 5 index seperately using print function. </b>"
   ]
  },
  {
   "cell_type": "code",
   "execution_count": 6,
   "metadata": {
    "colab": {
     "base_uri": "https://localhost:8080/"
    },
    "executionInfo": {
     "elapsed": 387,
     "status": "ok",
     "timestamp": 1622469906107,
     "user": {
      "displayName": "Shreya Biradar",
      "photoUrl": "",
      "userId": "13626312795578822118"
     },
     "user_tz": -330
    },
    "id": "kIWecVWnhnjt",
    "outputId": "4b3da7ac-108a-42af-e503-97d0cd53a42d"
   },
   "outputs": [
    {
     "name": "stdout",
     "output_type": "stream",
     "text": [
      "P\n",
      "y\n",
      "t\n",
      "h\n",
      "o\n",
      "n\n"
     ]
    }
   ],
   "source": [
    "s = 'Python programming'\n",
    "print(s[0])\n",
    "print(s[1])\n",
    "print(s[2])\n",
    "print(s[3])\n",
    "print(s[4])\n",
    "print(s[5])"
   ]
  },
  {
   "cell_type": "markdown",
   "metadata": {
    "id": "8I1lA0m7hnju"
   },
   "source": [
    "<b> f) Store (Python Programming) in a variable and print index value from 1 to 7 using string slicing operation. </b>"
   ]
  },
  {
   "cell_type": "code",
   "execution_count": 8,
   "metadata": {
    "colab": {
     "base_uri": "https://localhost:8080/"
    },
    "executionInfo": {
     "elapsed": 3366,
     "status": "ok",
     "timestamp": 1622469984425,
     "user": {
      "displayName": "Shreya Biradar",
      "photoUrl": "",
      "userId": "13626312795578822118"
     },
     "user_tz": -330
    },
    "id": "PCcoVUl_hnju",
    "outputId": "001301ce-6439-4907-99d1-1fd99713c1bd"
   },
   "outputs": [
    {
     "name": "stdout",
     "output_type": "stream",
     "text": [
      "ython \n"
     ]
    }
   ],
   "source": [
    "s ='Python programming'\n",
    "print(s[1:7])"
   ]
  },
  {
   "cell_type": "markdown",
   "metadata": {
    "id": "sVDJpoJzhnju"
   },
   "source": [
    "<b> g) Store (Python Programming) in a variable and print index value from 1 to end of the string using string slicing operation. </b>"
   ]
  },
  {
   "cell_type": "code",
   "execution_count": 9,
   "metadata": {
    "colab": {
     "base_uri": "https://localhost:8080/"
    },
    "executionInfo": {
     "elapsed": 351,
     "status": "ok",
     "timestamp": 1622470055479,
     "user": {
      "displayName": "Shreya Biradar",
      "photoUrl": "",
      "userId": "13626312795578822118"
     },
     "user_tz": -330
    },
    "id": "LiPz8dFChnju",
    "outputId": "a1227c70-6cf7-4111-bbd5-80c2d01818df"
   },
   "outputs": [
    {
     "name": "stdout",
     "output_type": "stream",
     "text": [
      "ython programming\n"
     ]
    }
   ],
   "source": [
    "s= 'Python programming'\n",
    "print(s[1:])"
   ]
  },
  {
   "cell_type": "markdown",
   "metadata": {
    "id": "Uxfxe_7rhnjv"
   },
   "source": [
    "<b> h) Store (Python Programming) in a variable and print index value from start of the string to 9 using string slicing operation. </b>"
   ]
  },
  {
   "cell_type": "code",
   "execution_count": 10,
   "metadata": {
    "colab": {
     "base_uri": "https://localhost:8080/"
    },
    "executionInfo": {
     "elapsed": 340,
     "status": "ok",
     "timestamp": 1622470171432,
     "user": {
      "displayName": "Shreya Biradar",
      "photoUrl": "",
      "userId": "13626312795578822118"
     },
     "user_tz": -330
    },
    "id": "kNmNi8Tehnjv",
    "outputId": "71f8c42d-ee29-451e-b984-6b336bb78a0c"
   },
   "outputs": [
    {
     "name": "stdout",
     "output_type": "stream",
     "text": [
      "Python pr\n"
     ]
    }
   ],
   "source": [
    "s= 'Python programming'\n",
    "print(s[:9])"
   ]
  },
  {
   "cell_type": "markdown",
   "metadata": {
    "id": "IUM0z02rhnjw"
   },
   "source": [
    "<b> i) Store (Python Programming) in a variable and print all the index value using string slicing operation. </b>"
   ]
  },
  {
   "cell_type": "code",
   "execution_count": 11,
   "metadata": {
    "colab": {
     "base_uri": "https://localhost:8080/"
    },
    "executionInfo": {
     "elapsed": 1401,
     "status": "ok",
     "timestamp": 1622470219639,
     "user": {
      "displayName": "Shreya Biradar",
      "photoUrl": "",
      "userId": "13626312795578822118"
     },
     "user_tz": -330
    },
    "id": "osuAiM0Khnjw",
    "outputId": "dcaa7d0f-57cb-4688-fe66-da5ed4a6f6fb"
   },
   "outputs": [
    {
     "name": "stdout",
     "output_type": "stream",
     "text": [
      "Python pr\n"
     ]
    }
   ],
   "source": [
    "s= 'Python programming'\n",
    "print(s[0:9])"
   ]
  }
 ],
 "metadata": {
  "colab": {
   "collapsed_sections": [],
   "name": "Python_Task_1(shreya).ipynb",
   "provenance": []
  },
  "kernelspec": {
   "display_name": "Python 3",
   "language": "python",
   "name": "python3"
  },
  "language_info": {
   "codemirror_mode": {
    "name": "ipython",
    "version": 3
   },
   "file_extension": ".py",
   "mimetype": "text/x-python",
   "name": "python",
   "nbconvert_exporter": "python",
   "pygments_lexer": "ipython3",
   "version": "3.8.8"
  }
 },
 "nbformat": 4,
 "nbformat_minor": 1
}
